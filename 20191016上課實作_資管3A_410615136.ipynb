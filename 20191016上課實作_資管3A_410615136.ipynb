{
 "cells": [
  {
   "cell_type": "markdown",
   "metadata": {},
   "source": [
    "## 實作練習一"
   ]
  },
  {
   "cell_type": "code",
   "execution_count": 28,
   "metadata": {},
   "outputs": [
    {
     "name": "stdout",
     "output_type": "stream",
     "text": [
      "請輸入成績:77\n",
      "乙等\n"
     ]
    }
   ],
   "source": [
    "score = input(\"請輸入成績:\")\n",
    "if(int(score)>= 90):\n",
    "    print(\"優等\")\n",
    "elif(int(score)>= 80):\n",
    "    print(\"甲等\")\n",
    "elif(int(score)>= 70):\n",
    "    print(\"乙等\")\n",
    "elif(int(score)>= 60):\n",
    "    print(\"丙等\")\n",
    "else:\n",
    "    print(\"丁等\")"
   ]
  },
  {
   "cell_type": "markdown",
   "metadata": {},
   "source": [
    "## 實作練習二"
   ]
  },
  {
   "cell_type": "code",
   "execution_count": 48,
   "metadata": {},
   "outputs": [
    {
     "name": "stdout",
     "output_type": "stream",
     "text": [
      "請輸入正整數:10\n",
      "55 "
     ]
    }
   ],
   "source": [
    "score = int (input(\"請輸入正整數:\"))\n",
    "sum=0\n",
    "i=1\n",
    "for n in range(score):\n",
    "    sum=sum+i\n",
    "    i=i+1\n",
    "print(sum, end=\" \")              "
   ]
  },
  {
   "cell_type": "markdown",
   "metadata": {},
   "source": [
    "## 實作練習五"
   ]
  },
  {
   "cell_type": "code",
   "execution_count": 47,
   "metadata": {},
   "outputs": [
    {
     "name": "stdout",
     "output_type": "stream",
     "text": [
      "請輸入正整數:3\n",
      "1,2,3,"
     ]
    }
   ],
   "source": [
    "n=int(input(\"請輸入正整數:\"))\n",
    "for i in range(1, n+1):\n",
    "    if i % 5 ==0:\n",
    "        continue\n",
    "    print(i, end=\",\")    "
   ]
  },
  {
   "cell_type": "markdown",
   "metadata": {},
   "source": [
    "## 實作練習六"
   ]
  },
  {
   "cell_type": "code",
   "execution_count": 46,
   "metadata": {},
   "outputs": [
    {
     "name": "stdout",
     "output_type": "stream",
     "text": [
      "請輸入正整數:5\n",
      "120\n"
     ]
    }
   ],
   "source": [
    "n=int(input(\"請輸入正整數:\"))\n",
    "output =n\n",
    "\n",
    "if n==1:\n",
    "        print(n)\n",
    "else:\n",
    "    while(n>=2):\n",
    "        output=output*(n-1)\n",
    "        n=n-1\n",
    "    print(output)"
   ]
  },
  {
   "cell_type": "code",
   "execution_count": null,
   "metadata": {},
   "outputs": [],
   "source": []
  }
 ],
 "metadata": {
  "kernelspec": {
   "display_name": "Python 3",
   "language": "python",
   "name": "python3"
  },
  "language_info": {
   "codemirror_mode": {
    "name": "ipython",
    "version": 3
   },
   "file_extension": ".py",
   "mimetype": "text/x-python",
   "name": "python",
   "nbconvert_exporter": "python",
   "pygments_lexer": "ipython3",
   "version": "3.7.4"
  }
 },
 "nbformat": 4,
 "nbformat_minor": 2
}
